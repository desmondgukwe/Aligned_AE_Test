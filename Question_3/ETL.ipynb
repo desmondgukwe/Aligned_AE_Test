{
 "cells": [
  {
   "cell_type": "code",
   "execution_count": 2,
   "id": "0356efb5-7a01-4ec3-a4f8-ad1b1dcb46e8",
   "metadata": {},
   "outputs": [],
   "source": [
    "import pandas as pd\n",
    "from sqlalchemy import create_engine\n",
    "import pandas as pd"
   ]
  },
  {
   "cell_type": "code",
   "execution_count": 3,
   "id": "de980734-8041-43ec-829a-f21af6ce0f1e",
   "metadata": {},
   "outputs": [],
   "source": [
    "\n",
    "# Create a SQLAlchemy engine\n",
    "engine = create_engine(\"postgresql+psycopg2://desmondgukwe:@localhost:5000/desmondgukwe\")\n"
   ]
  },
  {
   "cell_type": "code",
   "execution_count": 4,
   "id": "a4ccf39a-c895-4bc0-b978-b850f7083f78",
   "metadata": {},
   "outputs": [],
   "source": [
    "#Load the csv\n",
    "clients = pd.read_csv('clients.csv')\n",
    "health_lapses = pd.read_csv('health_lapses.csv')\n",
    "health_products = pd.read_csv('health_products.csv')"
   ]
  },
  {
   "cell_type": "code",
   "execution_count": 5,
   "id": "04d6e28d-ed2a-4b43-80ac-e025bdb02a4c",
   "metadata": {},
   "outputs": [
    {
     "data": {
      "text/plain": [
       "0"
      ]
     },
     "execution_count": 5,
     "metadata": {},
     "output_type": "execute_result"
    }
   ],
   "source": [
    "#Creating empty tables \n",
    "clients.head(0).to_sql(name='clients', con=engine, if_exists='replace', index=False)\n",
    "health_lapses.head(0).to_sql(name='health_lapses', con=engine, if_exists='replace', index=False)\n",
    "health_products.head(0).to_sql(name='health_products', con=engine, if_exists='replace', index=False)\n"
   ]
  },
  {
   "cell_type": "code",
   "execution_count": 6,
   "id": "7867135c-a76a-4ebd-823f-220177a97645",
   "metadata": {},
   "outputs": [
    {
     "data": {
      "text/html": [
       "<div>\n",
       "<style scoped>\n",
       "    .dataframe tbody tr th:only-of-type {\n",
       "        vertical-align: middle;\n",
       "    }\n",
       "\n",
       "    .dataframe tbody tr th {\n",
       "        vertical-align: top;\n",
       "    }\n",
       "\n",
       "    .dataframe thead th {\n",
       "        text-align: right;\n",
       "    }\n",
       "</style>\n",
       "<table border=\"1\" class=\"dataframe\">\n",
       "  <thead>\n",
       "    <tr style=\"text-align: right;\">\n",
       "      <th></th>\n",
       "      <th>id</th>\n",
       "      <th>gender</th>\n",
       "      <th>age</th>\n",
       "      <th>province</th>\n",
       "      <th>income</th>\n",
       "      <th>bank</th>\n",
       "      <th>num_products</th>\n",
       "      <th>client_duration</th>\n",
       "      <th>payment</th>\n",
       "      <th>distrn</th>\n",
       "    </tr>\n",
       "  </thead>\n",
       "  <tbody>\n",
       "  </tbody>\n",
       "</table>\n",
       "</div>"
      ],
      "text/plain": [
       "Empty DataFrame\n",
       "Columns: [id, gender, age, province, income, bank, num_products, client_duration, payment, distrn]\n",
       "Index: []"
      ]
     },
     "execution_count": 6,
     "metadata": {},
     "output_type": "execute_result"
    }
   ],
   "source": [
    "# SQL query to check if there is data  in clients\n",
    "query = \"\"\" select \n",
    "* from public.clients;\n",
    "\"\"\"\n",
    "df = pd.read_sql_query(query, engine)\n",
    "df"
   ]
  },
  {
   "cell_type": "code",
   "execution_count": 7,
   "id": "aa3f55d8-0f35-4554-9436-2a78ab02a57a",
   "metadata": {},
   "outputs": [
    {
     "data": {
      "text/html": [
       "<div>\n",
       "<style scoped>\n",
       "    .dataframe tbody tr th:only-of-type {\n",
       "        vertical-align: middle;\n",
       "    }\n",
       "\n",
       "    .dataframe tbody tr th {\n",
       "        vertical-align: top;\n",
       "    }\n",
       "\n",
       "    .dataframe thead th {\n",
       "        text-align: right;\n",
       "    }\n",
       "</style>\n",
       "<table border=\"1\" class=\"dataframe\">\n",
       "  <thead>\n",
       "    <tr style=\"text-align: right;\">\n",
       "      <th></th>\n",
       "      <th>id</th>\n",
       "      <th>option</th>\n",
       "      <th>family</th>\n",
       "      <th>lapse_indicator</th>\n",
       "    </tr>\n",
       "  </thead>\n",
       "  <tbody>\n",
       "  </tbody>\n",
       "</table>\n",
       "</div>"
      ],
      "text/plain": [
       "Empty DataFrame\n",
       "Columns: [id, option, family, lapse_indicator]\n",
       "Index: []"
      ]
     },
     "execution_count": 7,
     "metadata": {},
     "output_type": "execute_result"
    }
   ],
   "source": [
    "# SQL query to check if there is data  in health_lapses\n",
    "query = \"\"\" select \n",
    "* from public.health_lapses;\n",
    "\"\"\"\n",
    "df = pd.read_sql_query(query, engine)\n",
    "df"
   ]
  },
  {
   "cell_type": "code",
   "execution_count": 8,
   "id": "09ed098f-4fff-4283-ac0e-346636681913",
   "metadata": {},
   "outputs": [
    {
     "data": {
      "text/html": [
       "<div>\n",
       "<style scoped>\n",
       "    .dataframe tbody tr th:only-of-type {\n",
       "        vertical-align: middle;\n",
       "    }\n",
       "\n",
       "    .dataframe tbody tr th {\n",
       "        vertical-align: top;\n",
       "    }\n",
       "\n",
       "    .dataframe thead th {\n",
       "        text-align: right;\n",
       "    }\n",
       "</style>\n",
       "<table border=\"1\" class=\"dataframe\">\n",
       "  <thead>\n",
       "    <tr style=\"text-align: right;\">\n",
       "      <th></th>\n",
       "      <th>option</th>\n",
       "      <th>single_premium</th>\n",
       "      <th>couple_premium</th>\n",
       "      <th>family_premium</th>\n",
       "    </tr>\n",
       "  </thead>\n",
       "  <tbody>\n",
       "  </tbody>\n",
       "</table>\n",
       "</div>"
      ],
      "text/plain": [
       "Empty DataFrame\n",
       "Columns: [option, single_premium, couple_premium, family_premium]\n",
       "Index: []"
      ]
     },
     "execution_count": 8,
     "metadata": {},
     "output_type": "execute_result"
    }
   ],
   "source": [
    "# SQL query to check if there is data  in health_products\n",
    "query = \"\"\" select \n",
    "* from public.health_products;\n",
    "\"\"\"\n",
    "df = pd.read_sql_query(query, engine)\n",
    "df"
   ]
  },
  {
   "cell_type": "code",
   "execution_count": 9,
   "id": "e530109a-7068-4e44-9112-4394a28d0dfb",
   "metadata": {},
   "outputs": [
    {
     "data": {
      "text/plain": [
       "3"
      ]
     },
     "execution_count": 9,
     "metadata": {},
     "output_type": "execute_result"
    }
   ],
   "source": [
    "# Load the CSVs as tables to PostgreSQL by appending \n",
    "clients.to_sql(name='clients', con=engine, if_exists='append', index=False)\n",
    "health_lapses.to_sql(name='health_lapses',con=engine,if_exists='append',index=False)\n",
    "health_products.to_sql(name='health_products',con=engine,if_exists='append',index=False)"
   ]
  },
  {
   "cell_type": "code",
   "execution_count": 10,
   "id": "d05765e1-b771-4b8b-89f6-31d088344bfa",
   "metadata": {},
   "outputs": [
    {
     "data": {
      "text/html": [
       "<div>\n",
       "<style scoped>\n",
       "    .dataframe tbody tr th:only-of-type {\n",
       "        vertical-align: middle;\n",
       "    }\n",
       "\n",
       "    .dataframe tbody tr th {\n",
       "        vertical-align: top;\n",
       "    }\n",
       "\n",
       "    .dataframe thead th {\n",
       "        text-align: right;\n",
       "    }\n",
       "</style>\n",
       "<table border=\"1\" class=\"dataframe\">\n",
       "  <thead>\n",
       "    <tr style=\"text-align: right;\">\n",
       "      <th></th>\n",
       "      <th>id</th>\n",
       "      <th>gender</th>\n",
       "      <th>age</th>\n",
       "      <th>province</th>\n",
       "      <th>income</th>\n",
       "      <th>bank</th>\n",
       "      <th>num_products</th>\n",
       "      <th>client_duration</th>\n",
       "      <th>payment</th>\n",
       "      <th>distrn</th>\n",
       "    </tr>\n",
       "  </thead>\n",
       "  <tbody>\n",
       "    <tr>\n",
       "      <th>0</th>\n",
       "      <td>X00001</td>\n",
       "      <td>M</td>\n",
       "      <td>37</td>\n",
       "      <td>GP</td>\n",
       "      <td>12600.0</td>\n",
       "      <td>Nedbank</td>\n",
       "      <td>1</td>\n",
       "      <td>0</td>\n",
       "      <td>Stop order</td>\n",
       "      <td>Broker</td>\n",
       "    </tr>\n",
       "    <tr>\n",
       "      <th>1</th>\n",
       "      <td>X00002</td>\n",
       "      <td>M</td>\n",
       "      <td>44</td>\n",
       "      <td>WC</td>\n",
       "      <td>36000.0</td>\n",
       "      <td>Capitec</td>\n",
       "      <td>1</td>\n",
       "      <td>1</td>\n",
       "      <td>Debit order</td>\n",
       "      <td>Broker</td>\n",
       "    </tr>\n",
       "    <tr>\n",
       "      <th>2</th>\n",
       "      <td>X00003</td>\n",
       "      <td>Male</td>\n",
       "      <td>44</td>\n",
       "      <td>KZN</td>\n",
       "      <td>2300.0</td>\n",
       "      <td>Standard</td>\n",
       "      <td>2</td>\n",
       "      <td>0</td>\n",
       "      <td>Stop order</td>\n",
       "      <td>Broker</td>\n",
       "    </tr>\n",
       "    <tr>\n",
       "      <th>3</th>\n",
       "      <td>X00004</td>\n",
       "      <td>F</td>\n",
       "      <td>45</td>\n",
       "      <td>WC</td>\n",
       "      <td>3000.0</td>\n",
       "      <td>Capitec</td>\n",
       "      <td>3</td>\n",
       "      <td>2</td>\n",
       "      <td>Debit order</td>\n",
       "      <td>Broker</td>\n",
       "    </tr>\n",
       "    <tr>\n",
       "      <th>4</th>\n",
       "      <td>X00005</td>\n",
       "      <td>M</td>\n",
       "      <td>40</td>\n",
       "      <td>EC</td>\n",
       "      <td>23100.0</td>\n",
       "      <td>Other</td>\n",
       "      <td>3</td>\n",
       "      <td>1</td>\n",
       "      <td>Stop order</td>\n",
       "      <td>Broker</td>\n",
       "    </tr>\n",
       "    <tr>\n",
       "      <th>...</th>\n",
       "      <td>...</td>\n",
       "      <td>...</td>\n",
       "      <td>...</td>\n",
       "      <td>...</td>\n",
       "      <td>...</td>\n",
       "      <td>...</td>\n",
       "      <td>...</td>\n",
       "      <td>...</td>\n",
       "      <td>...</td>\n",
       "      <td>...</td>\n",
       "    </tr>\n",
       "    <tr>\n",
       "      <th>19995</th>\n",
       "      <td>X19996</td>\n",
       "      <td>M</td>\n",
       "      <td>42</td>\n",
       "      <td>MP</td>\n",
       "      <td>34000.0</td>\n",
       "      <td>FNB</td>\n",
       "      <td>1</td>\n",
       "      <td>1</td>\n",
       "      <td>Debit order</td>\n",
       "      <td>Broker</td>\n",
       "    </tr>\n",
       "    <tr>\n",
       "      <th>19996</th>\n",
       "      <td>X19997</td>\n",
       "      <td>F</td>\n",
       "      <td>43</td>\n",
       "      <td>NW</td>\n",
       "      <td>49900.0</td>\n",
       "      <td>ABSA</td>\n",
       "      <td>6</td>\n",
       "      <td>3</td>\n",
       "      <td>Debit order</td>\n",
       "      <td>Digital</td>\n",
       "    </tr>\n",
       "    <tr>\n",
       "      <th>19997</th>\n",
       "      <td>X19998</td>\n",
       "      <td>M</td>\n",
       "      <td>37</td>\n",
       "      <td>EC</td>\n",
       "      <td>24800.0</td>\n",
       "      <td>Standard</td>\n",
       "      <td>3</td>\n",
       "      <td>2</td>\n",
       "      <td>Debit order</td>\n",
       "      <td>Broker</td>\n",
       "    </tr>\n",
       "    <tr>\n",
       "      <th>19998</th>\n",
       "      <td>X19999</td>\n",
       "      <td>F</td>\n",
       "      <td>39</td>\n",
       "      <td>WC</td>\n",
       "      <td>3600.0</td>\n",
       "      <td>Capitec</td>\n",
       "      <td>2</td>\n",
       "      <td>0</td>\n",
       "      <td>Debit order</td>\n",
       "      <td>Internal</td>\n",
       "    </tr>\n",
       "    <tr>\n",
       "      <th>19999</th>\n",
       "      <td>X20000</td>\n",
       "      <td>M</td>\n",
       "      <td>35</td>\n",
       "      <td>LP</td>\n",
       "      <td>26600.0</td>\n",
       "      <td>Capitec</td>\n",
       "      <td>2</td>\n",
       "      <td>0</td>\n",
       "      <td>Debit order</td>\n",
       "      <td>Broker</td>\n",
       "    </tr>\n",
       "  </tbody>\n",
       "</table>\n",
       "<p>20000 rows × 10 columns</p>\n",
       "</div>"
      ],
      "text/plain": [
       "           id gender  age province   income      bank  num_products  \\\n",
       "0      X00001      M   37       GP  12600.0   Nedbank             1   \n",
       "1      X00002      M   44       WC  36000.0   Capitec             1   \n",
       "2      X00003   Male   44      KZN   2300.0  Standard             2   \n",
       "3      X00004      F   45       WC   3000.0   Capitec             3   \n",
       "4      X00005      M   40       EC  23100.0     Other             3   \n",
       "...       ...    ...  ...      ...      ...       ...           ...   \n",
       "19995  X19996      M   42       MP  34000.0       FNB             1   \n",
       "19996  X19997      F   43       NW  49900.0      ABSA             6   \n",
       "19997  X19998      M   37       EC  24800.0  Standard             3   \n",
       "19998  X19999      F   39       WC   3600.0   Capitec             2   \n",
       "19999  X20000      M   35       LP  26600.0   Capitec             2   \n",
       "\n",
       "       client_duration      payment    distrn  \n",
       "0                    0   Stop order    Broker  \n",
       "1                    1  Debit order    Broker  \n",
       "2                    0   Stop order    Broker  \n",
       "3                    2  Debit order    Broker  \n",
       "4                    1   Stop order    Broker  \n",
       "...                ...          ...       ...  \n",
       "19995                1  Debit order    Broker  \n",
       "19996                3  Debit order   Digital  \n",
       "19997                2  Debit order    Broker  \n",
       "19998                0  Debit order  Internal  \n",
       "19999                0  Debit order    Broker  \n",
       "\n",
       "[20000 rows x 10 columns]"
      ]
     },
     "execution_count": 10,
     "metadata": {},
     "output_type": "execute_result"
    }
   ],
   "source": [
    "\n",
    "# SQL query to check if there is data in clients\n",
    "query = \"\"\"\n",
    "SELECT id, gender, age, province, income, bank, num_products, client_duration, payment, distrn\n",
    "FROM public.clients;\n",
    "\"\"\"\n",
    "df = pd.read_sql_query(query, engine)\n",
    "df\n"
   ]
  },
  {
   "cell_type": "code",
   "execution_count": null,
   "id": "314c0ed9-733d-4d7f-a1d9-8f8be893cc23",
   "metadata": {},
   "outputs": [
    {
     "ename": "",
     "evalue": "",
     "output_type": "error",
     "traceback": [
      "\u001b[1;31mRunning cells with 'Python 3.9.6' requires the ipykernel package.\n",
      "\u001b[1;31mRun the following command to install 'ipykernel' into the Python environment. \n",
      "\u001b[1;31mCommand: '/usr/bin/python3 -m pip install ipykernel -U --user --force-reinstall'"
     ]
    }
   ],
   "source": [
    "# SQL query to join all tables\n",
    "query = \"\"\"SELECT \n",
    "    c.id,\n",
    "    c.gender,\n",
    "    c.age,\n",
    "    c.province,\n",
    "    c.income,\n",
    "    c.bank,\n",
    "    c.num_products,\n",
    "    c.client_duration,\n",
    "    c.payment,\n",
    "    c.distrn,\n",
    "    \n",
    "    hl.\"option\",\n",
    "    hl.\"family\",\n",
    "    hl.lapse_indicator,\n",
    "    \n",
    "    hp.single_premium,\n",
    "    hp.couple_premium,\n",
    "    hp.family_premium\n",
    "\n",
    "FROM public.clients c\n",
    "LEFT JOIN public.health_lapses hl \n",
    "    ON c.id = hl.id\n",
    "LEFT JOIN public.health_products hp  \n",
    "    ON hl.\"option\" = hp.\"option\";\n",
    "\"\"\"\n",
    "df = pd.read_sql_query(query, engine)\n",
    "df"
   ]
  },
  {
   "cell_type": "code",
   "execution_count": null,
   "id": "f457201c-9359-4f08-ba57-5987d0cebc9d",
   "metadata": {},
   "outputs": [
    {
     "ename": "",
     "evalue": "",
     "output_type": "error",
     "traceback": [
      "\u001b[1;31mRunning cells with 'Python 3.9.6' requires the ipykernel package.\n",
      "\u001b[1;31mRun the following command to install 'ipykernel' into the Python environment. \n",
      "\u001b[1;31mCommand: '/usr/bin/python3 -m pip install ipykernel -U --user --force-reinstall'"
     ]
    }
   ],
   "source": []
  }
 ],
 "metadata": {
  "kernelspec": {
   "display_name": "Python 3 (ipykernel)",
   "language": "python",
   "name": "python3"
  },
  "language_info": {
   "codemirror_mode": {
    "name": "ipython",
    "version": 3
   },
   "file_extension": ".py",
   "mimetype": "text/x-python",
   "name": "python",
   "nbconvert_exporter": "python",
   "pygments_lexer": "ipython3",
   "version": "3.11.7"
  }
 },
 "nbformat": 4,
 "nbformat_minor": 5
}
